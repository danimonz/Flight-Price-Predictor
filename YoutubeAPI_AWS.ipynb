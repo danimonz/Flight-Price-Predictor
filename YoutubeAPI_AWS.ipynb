{
  "nbformat": 4,
  "nbformat_minor": 0,
  "metadata": {
    "colab": {
      "provenance": [],
      "authorship_tag": "ABX9TyNci4OGy19ih0m4ZZXgq+8B",
      "include_colab_link": true
    },
    "kernelspec": {
      "name": "python3",
      "display_name": "Python 3"
    },
    "language_info": {
      "name": "python"
    }
  },
  "cells": [
    {
      "cell_type": "markdown",
      "metadata": {
        "id": "view-in-github",
        "colab_type": "text"
      },
      "source": [
        "<a href=\"https://colab.research.google.com/github/danimonz/Senior-Thesis/blob/main/YoutubeAPI_AWS.ipynb\" target=\"_parent\"><img src=\"https://colab.research.google.com/assets/colab-badge.svg\" alt=\"Open In Colab\"/></a>"
      ]
    },
    {
      "cell_type": "code",
      "execution_count": 1,
      "metadata": {
        "id": "F9eoXDRs6spX"
      },
      "outputs": [],
      "source": [
        "#import libraries\n",
        "import requests\n",
        "import pandas as pd\n",
        "import time\n",
        "import psycopg2 as ps"
      ]
    },
    {
      "cell_type": "code",
      "source": [
        "#Keys\n",
        "API_KEY = #removed for privacy purposes\n",
        "CHANNEL_ID =\"UC3gNmTGu-TTbFPpfSs5kNkg\""
      ],
      "metadata": {
        "id": "SrZuoVDfGHSv",
        "outputId": "3d8d20ab-50fa-4226-e1aa-4ca68f93e79c",
        "colab": {
          "base_uri": "https://localhost:8080/",
          "height": 133
        }
      },
      "execution_count": 2,
      "outputs": [
        {
          "output_type": "error",
          "ename": "SyntaxError",
          "evalue": "ignored",
          "traceback": [
            "\u001b[0;36m  File \u001b[0;32m\"<ipython-input-2-4a3a9b7a896f>\"\u001b[0;36m, line \u001b[0;32m2\u001b[0m\n\u001b[0;31m    API_KEY = #removed for privacy purposes\u001b[0m\n\u001b[0m              ^\u001b[0m\n\u001b[0;31mSyntaxError\u001b[0m\u001b[0;31m:\u001b[0m invalid syntax\n"
          ]
        }
      ]
    },
    {
      "cell_type": "code",
      "source": [
        "def get_video_stats(video_id):\n",
        "  #collecting view, like, dislike, and comment counts\n",
        "  url_video_stats = \"https://www.googleapis.com/youtube/v3/videos?part=statistics&key=\"+API_KEY+\"&id=\"+video_id\n",
        "  response_video_stats = requests.get(url_video_stats).json()\n",
        "\n",
        "  view_count = response_video_stats['items'][0]['statistics']['viewCount']\n",
        "  like_count = response_video_stats['items'][0]['statistics']['likeCount']\n",
        "  favorite_count = response_video_stats['items'][0]['statistics']['favoriteCount']\n",
        "  if response_video_stats['items'][0]['statistics'].get('dislikeCount') is not None:\n",
        "    dislike_count = response_video_stats['items'][0]['statistics']['dislikeCount']\n",
        "  else:\n",
        "    dislike_count = 0\n",
        "  if response_video_stats['items'][0]['statistics'].get('commentCount') is not None:\n",
        "    comment_count = response_video_stats['items'][0]['statistics']['commentCount']\n",
        "  else:\n",
        "    comment_count = 0\n",
        "  \n",
        "  return view_count, like_count, favorite_count, dislike_count, comment_count\n"
      ],
      "metadata": {
        "id": "wQtgwiKwNhb7"
      },
      "execution_count": null,
      "outputs": []
    },
    {
      "cell_type": "code",
      "source": [
        "def get_videos(df, coords):\n",
        "  \"\"\"\n",
        "  Parameters\n",
        "  df : database\n",
        "  coords : coordinates of area you are searching in\n",
        "\n",
        "  \"\"\"\n",
        "  #Make API Call for search\n",
        "  url_video_search = \"https://www.googleapis.com/youtube/v3/search?key=\"+API_KEY+\"&part=snippet&location=\"+coords+\"&locationRadius=50mi&maxResults=10&order=viewCount&type=video\"\n",
        "\n",
        "  response_video_search = requests.get(url_video_search).json()\n",
        "  time.sleep(3) #gives time for the api to collect data before jumping into for loop\n",
        "\n",
        "  #for loop to extract video_id, video_title, and upload_date from every video in the search response\n",
        "  for video in response_video_search['items']:\n",
        "    if video['id']['kind'] == \"youtube#video\":\n",
        "      video_id = video['id']['videoId']\n",
        "      video_title = video['snippet']['title']\n",
        "      upload_date = video['snippet']['publishedAt']\n",
        "      upload_date = str(upload_date).split('T')[0]\n",
        "      #video_id = response['items'][0]['id']['videoId']\n",
        "\n",
        "      view_count, like_count, favorite_count, dislike_count, comment_count = get_video_stats(video_id)\n",
        "\n",
        "      #save data in panda df\n",
        "      #pd.concat([df, pd.DataFrame.from_records([{ 'a': 1, 'b': 2 }])])\n",
        "      #df = pd.DataFrame.from_records(your_list)\n",
        "      df = pd.concat([df, pd.DataFrame.from_records({ 'video_id': [video_id], 'video_title': [video_title],\n",
        "                        'upload_date': [upload_date], 'view_count': [view_count],\n",
        "                      'like_count': [like_count], 'favorite_count': [favorite_count],\n",
        "                      'dislike_count': [dislike_count], 'comment_count': [comment_count]})], ignore_index=True)\n",
        "  return df\n"
      ],
      "metadata": {
        "id": "boCL8g1jOJ3C"
      },
      "execution_count": null,
      "outputs": []
    },
    {
      "cell_type": "code",
      "source": [
        "#coordinates for cities\n",
        "dallas_coord = \"32.779167%2C-96.808891\""
      ],
      "metadata": {
        "id": "Y3Z1PhyGsGSG"
      },
      "execution_count": null,
      "outputs": []
    },
    {
      "cell_type": "code",
      "source": [
        "#build dataframe\n",
        "df = pd.DataFrame(columns=[\"video_id\", \"video_title\", \"upload_date\", \"view_count\", \"like_count\", \"favorite_count\", \"dislike_count\", \"comment_count\"])\n",
        "df = get_videos(df, dallas_coord)\n",
        "\n",
        "df"
      ],
      "metadata": {
        "id": "BJf0sKzXbl0-"
      },
      "execution_count": null,
      "outputs": []
    },
    {
      "cell_type": "code",
      "source": [
        "#Connect to AWS Database\n",
        "def connect_to_db(host_name, dbname, port, username, password):\n",
        "  try:\n",
        "    conn = ps.connect(host=host_name, database=dbname, user=username, password=password, port=port)\n",
        "  except ps.OperationalError as e:\n",
        "    raise e\n",
        "  else:\n",
        "    print(\"Connected to Database\")\n",
        "\n",
        "  return conn"
      ],
      "metadata": {
        "id": "jhyhVbaMx2tr"
      },
      "execution_count": null,
      "outputs": []
    },
    {
      "cell_type": "code",
      "source": [
        "#Create Table\n",
        "\n",
        "def create_table(curr):\n",
        "  create_table_command = (\"\"\"CREATE TABLE IF NOT EXISTS videos (\n",
        "                    video_id VARCHAR(255) PRIMARY KEY,\n",
        "                    video_title TEXT NOT NULL,\n",
        "                    upload_date DATE NOT NULL DEFAULT CURRENT_DATE,\n",
        "                    view_count INTEGER NOT NULL,\n",
        "                    like_count INTEGER NOT NULL,\n",
        "                    favorite_count INTEGER NOT NULL,\n",
        "                    dislike_count INTEGER NOT NULL,\n",
        "                    comment_count INTEGER NOT NULL\n",
        "                    )\"\"\")\n",
        "  curr.execute(create_table_command)"
      ],
      "metadata": {
        "id": "bKogVrSozQNw"
      },
      "execution_count": null,
      "outputs": []
    },
    {
      "cell_type": "code",
      "source": [
        "def check_if_video_exists(curr, video_id):\n",
        "  query = (\"\"\"SELECT video_id FROM VIDEOS WHERE video_id = %s\"\"\")\n",
        "  \n",
        "  curr.execute(query, (video_id,))\n",
        "  return curr.fetchone() is not None"
      ],
      "metadata": {
        "id": "ai83yYnXvann"
      },
      "execution_count": null,
      "outputs": []
    },
    {
      "cell_type": "code",
      "source": [
        "#update row if video exists, updating stats\n",
        "\n",
        "def update_row(curr, video_id, video_title, view_count, like_count, favorite_count, dislike_count, comment_count):\n",
        "  query = (\"\"\"UPDATE videos\n",
        "           SET video_title = %s,\n",
        "            view_count = %s,\n",
        "            like_count = %s,\n",
        "            favorite_count = %s,\n",
        "            dislike_count = %s,\n",
        "            comment_count = %s\n",
        "           WHERE video_id = %s;\"\"\")\n",
        "  vars_to_update = (video_title, view_count, like_count, favorite_count, dislike_count, comment_count)\n",
        "  curr.execute(query, vars_to_update)"
      ],
      "metadata": {
        "id": "6N9gF9nLxgqT"
      },
      "execution_count": null,
      "outputs": []
    },
    {
      "cell_type": "code",
      "source": [
        "#insert command, addin data to aws database\n",
        "def insert_into_table(curr, video_id, video_title, upload_date, view_count, like_count, favorite_count, dislike_count, comment_count):\n",
        "    insert_into_videos = (\"\"\"INSERT INTO videos (video_id, video_title, upload_date,\n",
        "                        view_count, like_count, favorite_count, dislike_count, comment_count)\n",
        "    VALUES(%s,%s,%s,%s,%s,%s,%s,%s);\"\"\")\n",
        "    row_to_insert = (video_id, video_title, upload_date, view_count, like_count, favorite_count, dislike_count, comment_count)\n",
        "    curr.execute(insert_into_videos, row_to_insert)\n"
      ],
      "metadata": {
        "id": "ufzkq4fSHezs"
      },
      "execution_count": null,
      "outputs": []
    },
    {
      "cell_type": "code",
      "source": [
        "def append_from_df_to_db(curr, df):\n",
        "  for i, row in df.iterrows():\n",
        "    insert_into_table(curr, row['video_id'], row['video_title'], row['upload_date'], row['view_count'], row['like_count'], row['favorite_count'], row['dislike_count'], row['comment_count'])"
      ],
      "metadata": {
        "id": "VfoSZn7EC_Hj"
      },
      "execution_count": null,
      "outputs": []
    },
    {
      "cell_type": "code",
      "source": [
        "#Updating the database\n",
        "\n",
        "#checking if vidoe exists\n",
        "\n",
        "def update_db(curr, df):\n",
        "  #temporary dataframe\n",
        "  tmp_df = pd.DataFrame(columns=[\"video_id\", \"video_title\", \"upload_date\", \"view_count\", \"like_count\", \n",
        "                                  \"favorite_count\", \"dislike_count\", \"comment_count\"])\n",
        "  \n",
        "  for i, row in df.iterrows():\n",
        "    if check_if_video_exists(curr, row['video_id']): #if video exists, update stats\n",
        "      update_row(curr, row['video_id'], row['video_title'], row['view_count'], row['like_count'], row['favorite_count'], row['dislike_count'], row['comment_count'])\n",
        "    else: #if video doesn't exist, update data\n",
        "      tmp_df = pd.concat([tmp_df, pd.DataFrame.from_records({ 'video_id': [row['video_id']], 'video_title': [row['video_title']],\n",
        "                        'upload_date': [row['upload_date']], 'view_count': [row['view_count']],\n",
        "                      'like_count': [row['like_count']], 'favorite_count': [row['favorite_count']],\n",
        "                      'dislike_count': [row['dislike_count']], 'comment_count': [row['comment_count']]})], ignore_index=True)\n",
        "  \n",
        "  return tmp_df\n"
      ],
      "metadata": {
        "id": "czPcJQYEqYn8"
      },
      "execution_count": null,
      "outputs": []
    },
    {
      "cell_type": "code",
      "source": [
        "#Database info\n",
        "host_name = #removed for privacy purposes\n",
        "dbname = \"postgres\"\n",
        "port = #removed for privacy purposes\n",
        "username = #removed for privacy purposes\n",
        "password = #removed for privacy purposes\n",
        "conn = None\n",
        "\n",
        "conn = connect_to_db(host_name, dbname, port, username, password)"
      ],
      "metadata": {
        "id": "9wiMLPhAuEkC"
      },
      "execution_count": null,
      "outputs": []
    },
    {
      "cell_type": "code",
      "source": [
        "curr = conn.cursor()"
      ],
      "metadata": {
        "id": "Osz0UgJXmf_r"
      },
      "execution_count": null,
      "outputs": []
    },
    {
      "cell_type": "code",
      "source": [
        "create_table(curr)"
      ],
      "metadata": {
        "id": "BI-S0ze_pqKS"
      },
      "execution_count": null,
      "outputs": []
    },
    {
      "cell_type": "code",
      "source": [
        "new_vid_df = update_db(curr, df)"
      ],
      "metadata": {
        "id": "ZPmHF9U8Af9F"
      },
      "execution_count": null,
      "outputs": []
    },
    {
      "cell_type": "code",
      "source": [
        "append_from_df_to_db(curr, new_vid_df)"
      ],
      "metadata": {
        "id": "VosQCiBOFOLe"
      },
      "execution_count": null,
      "outputs": []
    },
    {
      "cell_type": "code",
      "source": [
        "conn.commit()"
      ],
      "metadata": {
        "id": "8hGdj4-iqYAe"
      },
      "execution_count": null,
      "outputs": []
    }
  ]
}